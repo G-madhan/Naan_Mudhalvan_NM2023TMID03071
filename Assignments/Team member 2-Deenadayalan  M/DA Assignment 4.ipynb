{
  "nbformat": 4,
  "nbformat_minor": 0,
  "metadata": {
    "colab": {
      "provenance": []
    },
    "kernelspec": {
      "name": "python3",
      "display_name": "Python 3"
    },
    "language_info": {
      "name": "python"
    }
  },
  "cells": [
    {
      "cell_type": "markdown",
      "source": [
        "TASK 1:"
      ],
      "metadata": {
        "id": "oFzmpaBvCi69"
      }
    },
    {
      "cell_type": "code",
      "execution_count": null,
      "metadata": {
        "id": "E54U-T6Y-tlt"
      },
      "outputs": [],
      "source": [
        "l1=[1,2,3,4,5]\n",
        "l2=[4,5,6,7,8]"
      ]
    },
    {
      "cell_type": "code",
      "source": [
        "l3=l1+l2"
      ],
      "metadata": {
        "id": "9HbiP8f-_Nu_"
      },
      "execution_count": null,
      "outputs": []
    },
    {
      "cell_type": "code",
      "source": [
        "l3"
      ],
      "metadata": {
        "colab": {
          "base_uri": "https://localhost:8080/"
        },
        "id": "954n_Pa1_P3k",
        "outputId": "721b6a59-3ac2-45c5-fde9-21022cb15035"
      },
      "execution_count": null,
      "outputs": [
        {
          "output_type": "execute_result",
          "data": {
            "text/plain": [
              "[1, 2, 3, 4, 5, 4, 5, 6, 7, 8]"
            ]
          },
          "metadata": {},
          "execution_count": 17
        }
      ]
    },
    {
      "cell_type": "markdown",
      "source": [
        "TASK 2:"
      ],
      "metadata": {
        "id": "PtVZcbSQCrQW"
      }
    },
    {
      "cell_type": "code",
      "source": [
        "print(*[i for i in l3 if i%2==0])"
      ],
      "metadata": {
        "colab": {
          "base_uri": "https://localhost:8080/"
        },
        "id": "Ty1PhAWz_swN",
        "outputId": "8f55abdf-bba0-4b27-f8a1-d599de5750d3"
      },
      "execution_count": null,
      "outputs": [
        {
          "output_type": "stream",
          "name": "stdout",
          "text": [
            "2 4 4 6 8\n"
          ]
        }
      ]
    },
    {
      "cell_type": "markdown",
      "source": [
        "TASK 3:"
      ],
      "metadata": {
        "id": "o4rvd7OBCuqC"
      }
    },
    {
      "cell_type": "code",
      "source": [
        "d={\n",
        "    \"k1\":[1,2],\n",
        "    \"k2\":[3,4],\n",
        "    \"k3\":[5,6]\n",
        "}\n",
        "print(d)"
      ],
      "metadata": {
        "colab": {
          "base_uri": "https://localhost:8080/"
        },
        "id": "fyo5Lo0tAPin",
        "outputId": "cc8d8e83-f24e-4c33-f909-1cce6c9bf2bc"
      },
      "execution_count": null,
      "outputs": [
        {
          "output_type": "stream",
          "name": "stdout",
          "text": [
            "{'k1': [1, 2], 'k2': [3, 4], 'k3': [5, 6]}\n"
          ]
        }
      ]
    },
    {
      "cell_type": "markdown",
      "source": [
        "TASK 4:"
      ],
      "metadata": {
        "id": "hQjYQms1Cw9Z"
      }
    },
    {
      "cell_type": "code",
      "source": [
        "def odd(l):\n",
        "  t=[]\n",
        "  for i in l:\n",
        "    if i&1:\n",
        "      t.append(i)\n",
        "  return t\n",
        "print(*odd(l3))\n"
      ],
      "metadata": {
        "colab": {
          "base_uri": "https://localhost:8080/"
        },
        "id": "-uhoks4LBFYx",
        "outputId": "faaa2825-f8d8-4626-eac2-d0f8c3c58a40"
      },
      "execution_count": null,
      "outputs": [
        {
          "output_type": "stream",
          "name": "stdout",
          "text": [
            "1 3 5 5 7\n"
          ]
        }
      ]
    },
    {
      "cell_type": "markdown",
      "source": [
        "TASK 5:"
      ],
      "metadata": {
        "id": "JrZJ5D9fC0Gl"
      }
    },
    {
      "cell_type": "code",
      "source": [
        "sum(l3)"
      ],
      "metadata": {
        "colab": {
          "base_uri": "https://localhost:8080/"
        },
        "id": "gK_HQ41gB4nJ",
        "outputId": "7924281a-3652-4be5-af9e-732c2299ab29"
      },
      "execution_count": null,
      "outputs": [
        {
          "output_type": "execute_result",
          "data": {
            "text/plain": [
              "45"
            ]
          },
          "metadata": {},
          "execution_count": 23
        }
      ]
    },
    {
      "cell_type": "code",
      "source": [],
      "metadata": {
        "id": "_sgBPo-mDBFL"
      },
      "execution_count": null,
      "outputs": []
    }
  ]
}